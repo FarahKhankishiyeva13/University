{
  "nbformat": 4,
  "nbformat_minor": 0,
  "metadata": {
    "colab": {
      "name": "Copy of Copy of Copy of Copy of Copy of Copy of Homework1.ipynb",
      "provenance": [],
      "collapsed_sections": [],
      "include_colab_link": true
    },
    "kernelspec": {
      "name": "python3",
      "display_name": "Python 3"
    },
    "language_info": {
      "name": "python"
    }
  },
  "cells": [
    {
      "cell_type": "markdown",
      "metadata": {
        "id": "view-in-github",
        "colab_type": "text"
      },
      "source": [
        "<a href=\"https://colab.research.google.com/github/FarahKhankishiyeva13/University/blob/main/Copy_of_Copy_of_Copy_of_Copy_of_Copy_of_Copy_of_Homework1.ipynb\" target=\"_parent\"><img src=\"https://colab.research.google.com/assets/colab-badge.svg\" alt=\"Open In Colab\"/></a>"
      ]
    },
    {
      "cell_type": "code",
      "execution_count": 5,
      "metadata": {
        "id": "jrVeHsm1rpdT",
        "colab": {
          "base_uri": "https://localhost:8080/"
        },
        "outputId": "55d1c406-291f-4898-f20f-2e4845d626ab"
      },
      "outputs": [
        {
          "output_type": "stream",
          "name": "stdout",
          "text": [
            "What is your name? Farah\n",
            "What is your age? 20\n",
            "Your name is Farah.Your age is 20\n"
          ]
        }
      ],
      "source": [
        "#Q1-Get your name and age as input and print it in the form like\n",
        "#Your name is Hulisi. Your age is 43\n",
        "name=input('What is your name? ')\n",
        "age=input('What is your age? ')\n",
        "print('Your name is '+name+'.Your age is '+age)"
      ]
    },
    {
      "cell_type": "code",
      "source": [
        "#Q2-Write a if statement for a given two number is equal or not\n",
        "a=43\n",
        "b=54\n",
        "\n",
        "if(a!=b):\n",
        "  print(\"not equal\")\n",
        "else:\n",
        "    print('equal')\n"
      ],
      "metadata": {
        "id": "7Sfg03_PuVWa",
        "outputId": "e926237e-c12b-4d26-f17f-4c1756124631",
        "colab": {
          "base_uri": "https://localhost:8080/"
        }
      },
      "execution_count": 6,
      "outputs": [
        {
          "output_type": "stream",
          "name": "stdout",
          "text": [
            "not equal\n"
          ]
        }
      ]
    },
    {
      "cell_type": "code",
      "source": [
        "#Q3-Write a if statement for first number is greater (a), equal or less than second number.(b)\n",
        "a=43\n",
        "b=54\n",
        "\n",
        "if(a>b):\n",
        "   print (\"a is greater than b\")\n",
        "\n",
        "elif(a==b):\n",
        "  print (\"a and b are equal\")\n",
        "\n",
        "else:\n",
        "  print (\"a is less than b\")\n",
        "\n",
        "\n",
        "\n"
      ],
      "metadata": {
        "id": "NtUibZ07u5gs",
        "colab": {
          "base_uri": "https://localhost:8080/"
        },
        "outputId": "057473b9-4fe0-4e6a-c1b3-267837533bc5"
      },
      "execution_count": 7,
      "outputs": [
        {
          "output_type": "stream",
          "name": "stdout",
          "text": [
            "a is less than b\n"
          ]
        }
      ]
    },
    {
      "cell_type": "code",
      "source": [
        "#Q4- Using for loop, print 1,2,3,4,5\n",
        "\n",
        "for k in range(1,6):\n",
        "  print(k)"
      ],
      "metadata": {
        "id": "U1UMQv36wNHP",
        "outputId": "535cab8a-e7b6-47f5-a23c-11b59be4f6fb",
        "colab": {
          "base_uri": "https://localhost:8080/"
        }
      },
      "execution_count": 8,
      "outputs": [
        {
          "output_type": "stream",
          "name": "stdout",
          "text": [
            "1\n",
            "2\n",
            "3\n",
            "4\n",
            "5\n"
          ]
        }
      ]
    },
    {
      "cell_type": "code",
      "source": [
        "#Q5-Using while loop, print 5,4,3,2,1\n",
        "i=5\n",
        "while(i>0):\n",
        "  print(i)\n",
        "  i=i-1\n",
        "\n"
      ],
      "metadata": {
        "id": "bh5Lga7XxGY8",
        "colab": {
          "base_uri": "https://localhost:8080/"
        },
        "outputId": "0a24e718-7cdc-407b-f763-ebabbca6041f"
      },
      "execution_count": 9,
      "outputs": [
        {
          "output_type": "stream",
          "name": "stdout",
          "text": [
            "5\n",
            "4\n",
            "3\n",
            "2\n",
            "1\n"
          ]
        }
      ]
    },
    {
      "cell_type": "code",
      "source": [
        "#Q6- Using for loop, print 10,6,4,2,0\n",
        "#Hint Print if number is not equal to 8.\n",
        "\n",
        "for i in range(10,-1,-2):\n",
        "  if(i!=8):\n",
        "    print(i)\n",
        "\n"
      ],
      "metadata": {
        "id": "cXTTDS49xSoi",
        "colab": {
          "base_uri": "https://localhost:8080/"
        },
        "outputId": "129a01d6-6212-486e-8214-25a235ffcd52"
      },
      "execution_count": 15,
      "outputs": [
        {
          "output_type": "stream",
          "name": "stdout",
          "text": [
            "10\n",
            "6\n",
            "4\n",
            "2\n",
            "0\n"
          ]
        }
      ]
    },
    {
      "cell_type": "code",
      "source": [
        "#Q7-Write a method to calculate age for a given date of birth year.\n",
        "#Use this method on orer to calculate age of person if date of birth is 1944\n",
        "# if age is the name of function, print(age(1944))\n",
        "\n",
        "def age(x):\n",
        " import datetime\n",
        " year = datetime.datetime.today().year\n",
        " return  year - x\n",
        "print(age(1944))\n",
        "\n"
      ],
      "metadata": {
        "id": "geUjb-vuyYbF",
        "colab": {
          "base_uri": "https://localhost:8080/"
        },
        "outputId": "9041c252-a8fa-43ac-9864-74066d6adc00"
      },
      "execution_count": 10,
      "outputs": [
        {
          "output_type": "stream",
          "name": "stdout",
          "text": [
            "78\n"
          ]
        }
      ]
    },
    {
      "cell_type": "code",
      "source": [
        "#Q8-Write a class named arithmetic with method for calculating addition, substraction, multiplication and division of two numbers.\n",
        "\n",
        "class arithmetic:\n",
        "  def addition(x,y):\n",
        "    return x+y\n",
        "  def substraction(x,y):\n",
        "    return x-y \n",
        "  def multiplication(x,y):\n",
        "    return x*y \n",
        "  def division(x,y):\n",
        "    return x/y \n",
        "    \n",
        "print(arithmetic.addition(3,2))\n",
        "print(arithmetic.substraction(3,2))\n",
        "print(arithmetic.multiplication(3,2))\n",
        "print(arithmetic.division(3,2))\n"
      ],
      "metadata": {
        "id": "YcyFzE3fzC7_",
        "colab": {
          "base_uri": "https://localhost:8080/"
        },
        "outputId": "3ac798cf-b7f5-4099-add7-a12b8ec9cbdc"
      },
      "execution_count": 11,
      "outputs": [
        {
          "output_type": "stream",
          "name": "stdout",
          "text": [
            "5\n",
            "1\n",
            "6\n",
            "1.5\n"
          ]
        }
      ]
    },
    {
      "cell_type": "code",
      "source": [
        "#Q9- write a for loop or method  to calculate summation of first n numbers\n",
        "#i.e if n=3, it will print or return 6 (1+2+3)\n",
        "\n",
        "n=int(input(\"Enter n: \"))\n",
        "sum=0 \n",
        "for i in range(1,n+1): \n",
        "    sum=sum+i  \n",
        "print(sum)   "
      ],
      "metadata": {
        "id": "AUJWr5YqzadI",
        "colab": {
          "base_uri": "https://localhost:8080/"
        },
        "outputId": "177d04c7-b9e9-4a98-95dd-c32092baba8b"
      },
      "execution_count": null,
      "outputs": [
        {
          "output_type": "stream",
          "name": "stdout",
          "text": [
            "Enter n: 3\n",
            "6\n"
          ]
        }
      ]
    },
    {
      "cell_type": "code",
      "source": [
        "#Q10-Generate 10 numbers between 0 and 1 and add into list. Print first three elements of that list. \n",
        "\n",
        "import random\n",
        "randomlist=[] \n",
        "for i in range(10): \n",
        "    randomlist.append(random.uniform(0,1)) \n",
        "print(randomlist) \n",
        "print(randomlist[0],randomlist[1],randomlist[2]) "
      ],
      "metadata": {
        "id": "hmtvJdCL02qx",
        "colab": {
          "base_uri": "https://localhost:8080/"
        },
        "outputId": "3868a016-9748-49a3-eca9-4e9a081a0e9d"
      },
      "execution_count": 12,
      "outputs": [
        {
          "output_type": "stream",
          "name": "stdout",
          "text": [
            "[0.7476583567658911, 0.5132480218117527, 0.621720839347982, 0.39241939380599833, 0.934527546550033, 0.014099939556382779, 0.07627250764288784, 0.9793954664302068, 0.2147147479472461, 0.8429900751464859]\n",
            "0.7476583567658911 0.5132480218117527 0.621720839347982\n"
          ]
        }
      ]
    },
    {
      "cell_type": "code",
      "source": [
        "#Q11-For a given number n, print numbers divisible by 3 up to that number(n included)\n",
        "#Example: if n=15, print 3,6,9,12,15\n",
        "#Hint you can use modulus statement (if (i%3==0))\n",
        "n=15\n",
        "\n",
        "n=int(input(\"Enter n: \")) \n",
        "for i in range(1,n+1):\n",
        "    if(i%3==0):           \n",
        "        print(i)      "
      ],
      "metadata": {
        "id": "5O6Y2CujcAAs",
        "outputId": "bb7ed97d-a74b-4930-d73a-bc45be38ce2f",
        "colab": {
          "base_uri": "https://localhost:8080/"
        }
      },
      "execution_count": 13,
      "outputs": [
        {
          "output_type": "stream",
          "name": "stdout",
          "text": [
            "Enter n: 15\n",
            "3\n",
            "6\n",
            "9\n",
            "12\n",
            "15\n"
          ]
        }
      ]
    }
  ]
}
